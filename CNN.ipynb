{
  "nbformat": 4,
  "nbformat_minor": 0,
  "metadata": {
    "colab": {
      "provenance": [],
      "gpuType": "T4"
    },
    "kernelspec": {
      "name": "python3",
      "display_name": "Python 3"
    },
    "language_info": {
      "name": "python"
    },
    "accelerator": "GPU"
  },
  "cells": [
    {
      "cell_type": "code",
      "source": [
        "from google.colab import files\n",
        "uploaded = files.upload()"
      ],
      "metadata": {
        "id": "2vXTYgF0UAfY"
      },
      "execution_count": null,
      "outputs": []
    },
    {
      "cell_type": "code",
      "source": [
        "!mkdir -p ~/.kaggle\n",
        "!cp kaggle.json ~/.kaggle/\n",
        "!chmod 600 ~/.kaggle/kaggle.json"
      ],
      "metadata": {
        "id": "JIeTlTrzVW9I"
      },
      "execution_count": null,
      "outputs": []
    },
    {
      "cell_type": "code",
      "source": [
        "!pip install kaggle"
      ],
      "metadata": {
        "id": "ApNPdl2dValA"
      },
      "execution_count": null,
      "outputs": []
    },
    {
      "cell_type": "code",
      "source": [
        "!kaggle datasets download -d bhavikjikadara/dog-and-cat-classification-dataset"
      ],
      "metadata": {
        "colab": {
          "base_uri": "https://localhost:8080/"
        },
        "id": "K5o5jzPDVgAH",
        "outputId": "18d88868-07f2-45c6-8403-643d9e1cbcdf"
      },
      "execution_count": null,
      "outputs": [
        {
          "output_type": "stream",
          "name": "stdout",
          "text": [
            "Dataset URL: https://www.kaggle.com/datasets/bhavikjikadara/dog-and-cat-classification-dataset\n",
            "License(s): apache-2.0\n"
          ]
        }
      ]
    },
    {
      "cell_type": "code",
      "source": [
        "!unzip dog-and-cat-classification-dataset.zip -d /content/dataset"
      ],
      "metadata": {
        "id": "CK1fatEuVsuR"
      },
      "execution_count": null,
      "outputs": []
    },
    {
      "cell_type": "code",
      "source": [
        "import os\n",
        "print(os.listdir(\"/content/dataset\"))"
      ],
      "metadata": {
        "id": "1EBzvUO2WBf8"
      },
      "execution_count": null,
      "outputs": []
    },
    {
      "cell_type": "code",
      "source": [
        "data_dir = \"/content/dataset/PetImages\"\n",
        "\n",
        "classes = os.listdir(data_dir)\n",
        "print(\"Classes:\", classes)\n",
        "\n",
        "for cls in classes:\n",
        "    count = len(os.listdir(os.path.join(data_dir, cls)))\n",
        "    print(f\"{cls}: {count} images\")"
      ],
      "metadata": {
        "id": "keMfQ6hdWK-b"
      },
      "execution_count": null,
      "outputs": []
    },
    {
      "cell_type": "code",
      "source": [
        "import matplotlib.pyplot as plt\n",
        "import matplotlib.image as mpimg\n",
        "\n",
        "cat_dir = os.path.join(data_dir, \"Cat\")\n",
        "dog_dir = os.path.join(data_dir, \"Dog\")\n",
        "\n",
        "cat_images = os.listdir(cat_dir)[:5]\n",
        "dog_images = os.listdir(dog_dir)[:5]\n",
        "\n",
        "plt.figure(figsize=(10,5))\n",
        "\n",
        "# Show cats\n",
        "for i, img_name in enumerate(cat_images):\n",
        "    img = mpimg.imread(os.path.join(cat_dir, img_name))\n",
        "    plt.subplot(2,5,i+1)\n",
        "    plt.imshow(img)\n",
        "    plt.title(\"Cat\")\n",
        "    plt.axis(\"off\")\n",
        "\n",
        "# Show dogs\n",
        "for i, img_name in enumerate(dog_images):\n",
        "    img = mpimg.imread(os.path.join(dog_dir, img_name))\n",
        "    plt.subplot(2,5,i+6)\n",
        "    plt.imshow(img)\n",
        "    plt.title(\"Dog\")\n",
        "    plt.axis(\"off\")\n",
        "\n",
        "plt.show()\n"
      ],
      "metadata": {
        "id": "733l2fyqWY6d"
      },
      "execution_count": null,
      "outputs": []
    },
    {
      "cell_type": "code",
      "source": [
        "!pip install split-folders\n",
        "import splitfolders\n",
        "\n",
        "input_folder = \"/content/dataset/PetImages\"\n",
        "output_folder = \"/content/dataset_split\"\n",
        "\n",
        "# Split into train (70%), validation (20%), test (10%)\n",
        "splitfolders.ratio(input_folder, output=output_folder, seed=42, ratio=(0.7, 0.2, 0.1))"
      ],
      "metadata": {
        "id": "vhiKludIXDlS"
      },
      "execution_count": null,
      "outputs": []
    },
    {
      "cell_type": "code",
      "source": [
        "from tensorflow.keras.preprocessing.image import ImageDataGenerator\n",
        "\n",
        "train_datagen = ImageDataGenerator(\n",
        "        rescale=1./255,\n",
        "        shear_range=0.2,\n",
        "        zoom_range=0.2,\n",
        "        horizontal_flip=True)\n",
        "\n",
        "test_datagen = ImageDataGenerator(rescale=1./255)\n",
        "\n",
        "train_generator = train_datagen.flow_from_directory(\n",
        "        '/content/dataset_split/train',\n",
        "        target_size=(128, 128),\n",
        "        batch_size=32,\n",
        "        class_mode='binary')\n",
        "\n",
        "validation_generator = test_datagen.flow_from_directory(\n",
        "        '/content/dataset_split/val',\n",
        "        target_size=(128, 128),\n",
        "        batch_size=32,\n",
        "        class_mode='binary')\n",
        "\n",
        "test_gen = test_datagen.flow_from_directory(\n",
        "    output_folder + \"/test\",\n",
        "    target_size=(128,128),\n",
        "    batch_size=32,\n",
        "    class_mode='binary',\n",
        "    shuffle=False   # don’t shuffle, so we can compare predictions later\n",
        ")\n",
        "\n"
      ],
      "metadata": {
        "id": "l8lxaubrXR3X"
      },
      "execution_count": null,
      "outputs": []
    },
    {
      "cell_type": "code",
      "source": [],
      "metadata": {
        "id": "drYvDgBDXR0A"
      },
      "execution_count": null,
      "outputs": []
    },
    {
      "cell_type": "code",
      "execution_count": null,
      "metadata": {
        "id": "OgEcQ2hYHkYa"
      },
      "outputs": [],
      "source": [
        "import tensorflow as tf"
      ]
    },
    {
      "cell_type": "code",
      "source": [
        "from tensorflow.keras.layers import Dense, Flatten, Conv2D, MaxPooling2D, Dropout\n",
        "from tensorflow.keras.models import Sequential\n"
      ],
      "metadata": {
        "id": "ukgT_Gi5IDZy"
      },
      "execution_count": null,
      "outputs": []
    },
    {
      "cell_type": "code",
      "source": [
        "cnn = Sequential()"
      ],
      "metadata": {
        "id": "CYWBteg0Jmvk"
      },
      "execution_count": null,
      "outputs": []
    },
    {
      "cell_type": "code",
      "source": [
        "cnn.add(Conv2D(filters=32,kernel_size=3,activation='relu',input_shape=(128,128,3), padding='same'))\n",
        "cnn.add(MaxPooling2D(pool_size=2))\n",
        "\n",
        "cnn.add(Conv2D(filters=64,kernel_size=3,activation='relu', padding='same'))\n",
        "cnn.add(MaxPooling2D(pool_size=2))\n",
        "\n",
        "cnn.add(Flatten())"
      ],
      "metadata": {
        "id": "CxYugp4EJo_9"
      },
      "execution_count": null,
      "outputs": []
    },
    {
      "cell_type": "code",
      "source": [
        "cnn.add(Dense(128,activation='relu'))\n",
        "cnn.add(Dropout(0.5))\n",
        "cnn.add(Dense(64,activation='relu'))\n",
        "cnn.add(Dropout(0.5))\n",
        "cnn.add(Dense(32,activation='relu'))\n",
        "cnn.add(Dropout(0.5))\n",
        "cnn.add(Dense(16,activation='relu'))\n",
        "cnn.add(Dropout(0.5))\n",
        "cnn.add(Dense(8,activation='relu'))\n",
        "cnn.add(Dropout(0.5))\n",
        "cnn.add(Dense(4,activation='relu'))\n",
        "cnn.add(Dropout(0.5))\n",
        "cnn.add(Dense(2,activation='relu'))\n",
        "cnn.add(Dropout(0.5))\n",
        "cnn.add(Dense(1,activation='sigmoid'))"
      ],
      "metadata": {
        "id": "_dnWf621KRhe"
      },
      "execution_count": null,
      "outputs": []
    },
    {
      "cell_type": "code",
      "source": [
        "cnn.compile(optimizer='adam',loss='binary_crossentropy',metrics=['accuracy'])"
      ],
      "metadata": {
        "id": "JkTxjj2RPzyJ"
      },
      "execution_count": null,
      "outputs": []
    },
    {
      "cell_type": "code",
      "source": [
        "print(train_generator.class_indices)"
      ],
      "metadata": {
        "id": "2NRtOZ9vfB-B"
      },
      "execution_count": null,
      "outputs": []
    },
    {
      "cell_type": "code",
      "source": [
        "history = cnn.fit(\n",
        "    train_generator,                 # training data\n",
        "    epochs=10,                 # number of passes through the dataset\n",
        "    validation_data=validation_generator    # validation data (to monitor performance)\n",
        ")"
      ],
      "metadata": {
        "id": "FvesbVrpfr6m"
      },
      "execution_count": null,
      "outputs": []
    },
    {
      "cell_type": "code",
      "source": [],
      "metadata": {
        "id": "gjrq8kdFiZgP"
      },
      "execution_count": null,
      "outputs": []
    },
    {
      "cell_type": "markdown",
      "source": [
        "#Prediction"
      ],
      "metadata": {
        "id": "KB8hQ9pNjR7j"
      }
    },
    {
      "cell_type": "code",
      "source": [
        "import numpy as np\n",
        "from tensorflow.keras.preprocessing import image"
      ],
      "metadata": {
        "id": "H5AYXgyMjRXf"
      },
      "execution_count": null,
      "outputs": []
    },
    {
      "cell_type": "code",
      "source": [
        "imgPath = '/content/dataset_split/test/Dog/10012.jpg'\n",
        "\n",
        "img = image.load_img(imgPath, target_size=(128,128))\n",
        "imgArray = image.img_to_array(img)\n",
        "imgArray = np.expand_dims(imgArray, axis=0)\n",
        "\n",
        "img_array = imgArray / 255.0"
      ],
      "metadata": {
        "id": "fF7Hp9Hujg1N"
      },
      "execution_count": null,
      "outputs": []
    },
    {
      "cell_type": "code",
      "source": [
        "prediction = cnn.predict(img_array)\n",
        "\n",
        "# Since it's binary classification: prediction > 0.5 means \"dog\", else \"cat\"\n",
        "if prediction[0][0] > 0.5:\n",
        "    print(\"🐶 It's a Dog!\")\n",
        "else:\n",
        "    print(\"🐱 It's a Cat!\")"
      ],
      "metadata": {
        "id": "an6cYBe7k1H7"
      },
      "execution_count": null,
      "outputs": []
    },
    {
      "cell_type": "code",
      "source": [
        "import matplotlib.pyplot as plt\n",
        "\n",
        "plt.imshow(img)\n",
        "plt.axis(\"off\")\n",
        "\n",
        "label = \"Dog 🐶\" if prediction[0][0] > 0.5 else \"Cat 🐱\"\n",
        "plt.title(f\"Prediction: {label}\")\n",
        "plt.show()\n"
      ],
      "metadata": {
        "id": "PuPssgnalaHb"
      },
      "execution_count": null,
      "outputs": []
    },
    {
      "cell_type": "code",
      "source": [],
      "metadata": {
        "id": "I7FhoUSAlr2t"
      },
      "execution_count": null,
      "outputs": []
    }
  ]
}